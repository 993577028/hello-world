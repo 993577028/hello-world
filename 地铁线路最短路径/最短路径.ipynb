{
 "cells": [
  {
   "cell_type": "code",
   "execution_count": 12,
   "metadata": {},
   "outputs": [],
   "source": [
    "def read_data(file_name):\n",
    "    #从txt中读入数据\n",
    "    data=dict()\n",
    "    with open(file_name,\"rt\", encoding=\"utf-8\") as file:\n",
    "        n=int(file.readline())\n",
    "        for i in range(n):\n",
    "            value=\"\"\n",
    "            line=file.readline().split()\n",
    "            for i in line[1:]:\n",
    "                value=value+i+\" \"\n",
    "            data[line[0]]=value\n",
    "    return data"
   ]
  },
  {
   "cell_type": "code",
   "execution_count": 13,
   "metadata": {},
   "outputs": [],
   "source": [
    "def build_subway(**lines):\n",
    "    for key in lines.keys():\n",
    "        #取出每条线路的所有站点，但此时还是整个字符串的状态\n",
    "        value = lines[key]\n",
    "        #对整个字符穿进行分词处理，并更新字典line信息\n",
    "        lines[key] = value.split()\n",
    "    #创建一个无序不重复元素集\n",
    "    stations = set()\n",
    "    for key in lines.keys():\n",
    "        #取出所有站点进去去重处理并存放到stations中\n",
    "        stations.update(set(lines[key]))\n",
    "    #创建一个空字典，用来存放邻接表\n",
    "    system = {}\n",
    "    #遍历所有站点\n",
    "    for station in stations:\n",
    "        #创建一个新的空字典用来存放站点的相邻站点信息，包括站点名和所属线路名\n",
    "        next_station = {}\n",
    "        #遍历更新过的lines\n",
    "        for key in lines:\n",
    "            #判断站点是否在该线路中\n",
    "            if station in lines[key]:\n",
    "                line = lines[key]\n",
    "                #找出该站点在该线路的下标\n",
    "                idx = line.index(station)\n",
    "                if idx == 0:\n",
    "                    #如果下标为零说明是起始站点，那么在该线路中的相邻站点就只有一个就是下标为1的站点，将其加入邻接表\n",
    "                    next_station[line[1]] = key\n",
    "                elif idx == len(line)-1:\n",
    "                    #如果下标为values值的长度-1说明是终点站，那么在该线路中的相邻站点就只有一个就是下标为values长度-2的站点，将其加入邻接表\n",
    "                    next_station[line[idx-1]]=key\n",
    "                else:\n",
    "                    #剩下的情况就是中间站点，将其两边的站点加入邻接表\n",
    "                    next_station[line[idx-1]] = key\n",
    "                    next_station[line[idx+1]] = key\n",
    "        #更新站点的相邻站点信息\n",
    "        system[station] = next_station\n",
    "    return system"
   ]
  },
  {
   "cell_type": "code",
   "execution_count": 61,
   "metadata": {},
   "outputs": [],
   "source": [
    "listdata=read_data(\"data.txt\")"
   ]
  },
  {
   "cell_type": "code",
   "execution_count": 62,
   "metadata": {},
   "outputs": [],
   "source": [
    "bj_subway=build_subway(**list)"
   ]
  },
  {
   "cell_type": "code",
   "execution_count": 63,
   "metadata": {},
   "outputs": [],
   "source": [
    "def shorter_path(start, goal):\n",
    "    #BFS算法\n",
    "    if start == goal:\n",
    "        return [start]\n",
    "    explored = set() \n",
    "    queue = [ [start] ] \n",
    "    while queue:\n",
    "        path = queue.pop(0)\n",
    "        s = path[-1]\n",
    "        for state, action in bj_subway[s].items():\n",
    "            if state not in explored:\n",
    "                explored.add(state)\n",
    "                path2 = path + [action, state]\n",
    "                if state == goal:\n",
    "                    return path2\n",
    "                else:\n",
    "                    queue.append(path2)\n",
    "    return []"
   ]
  },
  {
   "cell_type": "code",
   "execution_count": 66,
   "metadata": {},
   "outputs": [],
   "source": [
    "def printinfo(start,end):\n",
    "    if start not in bj_subway.keys():\n",
    "        print(\"请输入正确的出发站点\")\n",
    "        return\n",
    "    if end not in bj_subway.keys():\n",
    "        print(\"请输入正确的终点站\")\n",
    "        return\n",
    "    path=shorter_path(start,end)\n",
    "    if(len(path)==1):\n",
    "        print(path[0])\n",
    "        return\n",
    "    linename=path[1]\n",
    "    print(\"请先乘坐\",path[1])\n",
    "    for i in range(len(path)):\n",
    "        if((i+1)%2==1):\n",
    "            print(path[i])\n",
    "        else:\n",
    "            if(linename!=path[i] and i!=1):\n",
    "                print(\"------换乘\",path[i],\"-------\")\n",
    "                linename=path[i]"
   ]
  },
  {
   "cell_type": "code",
   "execution_count": 69,
   "metadata": {},
   "outputs": [
    {
     "name": "stdout",
     "output_type": "stream",
     "text": [
      "查询指定地铁线路站点信息请输入1，查询两站点最短路径请输入2:2\n",
      "请输入起点站:西直门\n",
      "请输入终点站:香山\n",
      "请先乘坐 13号线\n",
      "西直门\n",
      "大钟寺\n",
      "知春路\n",
      "------换乘 10号线 -------\n",
      "知春里\n",
      "海淀黄庄\n",
      "苏州街\n",
      "巴沟\n",
      "------换乘 西郊线 -------\n",
      "颐和园西门\n",
      "茶棚\n",
      "万安\n",
      "植物园\n",
      "香山\n"
     ]
    }
   ],
   "source": [
    "x=input(\"查询指定地铁线路站点信息请输入1，查询两站点最短路径请输入2:\")\n",
    "x=int(x)\n",
    "if(x==1):\n",
    "    line=input(\"请输入线路:\")\n",
    "    if line in listdata.keys():\n",
    "        print(listdata[line])\n",
    "    else:\n",
    "        print(\"请输入正确的地铁线路\")\n",
    "elif(x==2):\n",
    "    start=input(\"请输入起点站:\")\n",
    "    end=input(\"请输入终点站:\")\n",
    "    printinfo(start,end)"
   ]
  },
  {
   "cell_type": "code",
   "execution_count": null,
   "metadata": {},
   "outputs": [],
   "source": []
  }
 ],
 "metadata": {
  "kernelspec": {
   "display_name": "Python 3",
   "language": "python",
   "name": "python3"
  },
  "language_info": {
   "codemirror_mode": {
    "name": "ipython",
    "version": 3
   },
   "file_extension": ".py",
   "mimetype": "text/x-python",
   "name": "python",
   "nbconvert_exporter": "python",
   "pygments_lexer": "ipython3",
   "version": "3.7.0"
  }
 },
 "nbformat": 4,
 "nbformat_minor": 2
}
