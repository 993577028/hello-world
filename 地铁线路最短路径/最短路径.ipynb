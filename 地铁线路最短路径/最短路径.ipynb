{
 "cells": [
  {
   "cell_type": "code",
   "execution_count": 2,
   "metadata": {},
   "outputs": [],
   "source": [
    "def read_data(file_name):\n",
    "    data=dict()\n",
    "    with open(file_name,\"rt\", encoding=\"utf-8\") as file:\n",
    "        n=int(file.readline())\n",
    "        for i in range(n):\n",
    "            value=\"\"\n",
    "            line=file.readline().split()\n",
    "            for i in line[1:]:\n",
    "                value=value+i+\" \"\n",
    "            data[line[0]]=value\n",
    "    return data"
   ]
  },
  {
   "cell_type": "code",
   "execution_count": 3,
   "metadata": {},
   "outputs": [],
   "source": [
    "def build_subway(**lines):\n",
    "    for key in lines.keys():\n",
    "        value = lines[key]\n",
    "        lines[key] = value.split()\n",
    "    stations = set()\n",
    "    for key in lines.keys():\n",
    "        stations.update(set(lines[key]))\n",
    "    system = {}\n",
    "    for station in stations:\n",
    "        next_station = {}\n",
    "        for key in lines:\n",
    "            if station in lines[key]:\n",
    "                line = lines[key]\n",
    "                idx = line.index(station)\n",
    "                if idx == 0:\n",
    "                    next_station[line[1]] = key\n",
    "                elif idx == len(line)-1:\n",
    "                    next_station[line[idx-1]]=key\n",
    "                else:\n",
    "                    next_station[line[idx-1]] = key\n",
    "                    next_station[line[idx+1]] = key\n",
    "        system[station] = next_station\n",
    "    return system"
   ]
  },
  {
   "cell_type": "code",
   "execution_count": 4,
   "metadata": {},
   "outputs": [],
   "source": [
    "list=read_data(\"data.txt\")"
   ]
  },
  {
   "cell_type": "code",
   "execution_count": 5,
   "metadata": {},
   "outputs": [],
   "source": [
    "sub=build_subway(**list)"
   ]
  },
  {
   "cell_type": "code",
   "execution_count": 6,
   "metadata": {},
   "outputs": [],
   "source": [
    "def update_subway(BeiJingSubway):\n",
    "    \n",
    "    BeiJingSubway[u'西直门'][u'积水潭'] = 'line2'\n",
    "    BeiJingSubway[u'积水潭'][u'西直门'] = 'line2'\n",
    "    BeiJingSubway[u'劲松'][u'潘家园'] = 'line10'\n",
    "    BeiJingSubway[u'潘家园'][u'劲松'] = 'line10'\n",
    "    return BeiJingSubway"
   ]
  },
  {
   "cell_type": "code",
   "execution_count": 7,
   "metadata": {},
   "outputs": [],
   "source": [
    "bj_subway = update_subway(sub)"
   ]
  },
  {
   "cell_type": "code",
   "execution_count": 8,
   "metadata": {},
   "outputs": [],
   "source": [
    "def shorter_path(start, goal):\n",
    "    if start == goal:\n",
    "        return [start]\n",
    "    explored = set() \n",
    "    queue = [ [start] ] \n",
    "    while queue:\n",
    "        path = queue.pop(0)\n",
    "        s = path[-1]\n",
    "        for state, action in bj_subway[s].items():\n",
    "            if state not in explored:\n",
    "                explored.add(state)\n",
    "                path2 = path + [action, state]\n",
    "                if state == goal:\n",
    "                    return path2\n",
    "                else:\n",
    "                    queue.append(path2)\n",
    "    return []"
   ]
  },
  {
   "cell_type": "code",
   "execution_count": 9,
   "metadata": {},
   "outputs": [
    {
     "data": {
      "text/plain": [
       "['苹果园',\n",
       " '1号线',\n",
       " '古城',\n",
       " '1号线',\n",
       " '八角游乐园',\n",
       " '1号线',\n",
       " '八宝山',\n",
       " '1号线',\n",
       " '玉泉路',\n",
       " '1号线',\n",
       " '五棵松',\n",
       " '1号线',\n",
       " '万寿路',\n",
       " '1号线',\n",
       " '公主坟',\n",
       " '1号线',\n",
       " '军事博物馆',\n",
       " '9号线',\n",
       " '白堆子',\n",
       " '9号线',\n",
       " '白石桥南',\n",
       " '6号线',\n",
       " '车公庄西',\n",
       " '6号线',\n",
       " '车公庄',\n",
       " '2号线',\n",
       " '西直门',\n",
       " 'line2',\n",
       " '积水潭',\n",
       " '2号线',\n",
       " '鼓楼大街',\n",
       " '2号线',\n",
       " '安定门',\n",
       " '2号线',\n",
       " '雍和宫',\n",
       " '2号线',\n",
       " '东直门',\n",
       " '13号线',\n",
       " '柳芳',\n",
       " '13号线',\n",
       " '光熙门',\n",
       " '13号线',\n",
       " '芍药居',\n",
       " '13号线',\n",
       " '望京西',\n",
       " '15号线',\n",
       " '望京',\n",
       " '14号线东段',\n",
       " '阜通',\n",
       " '14号线东段',\n",
       " '望京南']"
      ]
     },
     "execution_count": 9,
     "metadata": {},
     "output_type": "execute_result"
    }
   ],
   "source": [
    "shorter_path('苹果园','望京南')"
   ]
  },
  {
   "cell_type": "code",
   "execution_count": 10,
   "metadata": {},
   "outputs": [
    {
     "name": "stdout",
     "output_type": "stream",
     "text": [
      "查询指定地铁线路站点信息请输入1，查询两站点最短路径请输入2:1\n",
      "请输入线路:1号线\n",
      "苹果园 古城 八角游乐园 八宝山 玉泉路 五棵松 万寿路 公主坟 军事博物馆 木樨路 南礼士路 复兴门 西单 天安门西 天安门东 王府井 东单 建国门 永安里 国贸 大望路 四惠 四惠东 \n"
     ]
    }
   ],
   "source": [
    "x=input(\"查询指定地铁线路站点信息请输入1，查询两站点最短路径请输入2:\")\n",
    "x=int(x)\n",
    "if(x==1):\n",
    "    line=input(\"请输入线路:\")\n",
    "    print(list[line])\n",
    "elif(x==2):\n",
    "    start=input(\"请输入起点站:\")\n",
    "    end=input(\"请输入终点站:\")\n",
    "    print(shorter_path(start,end))"
   ]
  },
  {
   "cell_type": "code",
   "execution_count": null,
   "metadata": {},
   "outputs": [],
   "source": []
  }
 ],
 "metadata": {
  "kernelspec": {
   "display_name": "Python 3",
   "language": "python",
   "name": "python3"
  }
 },
 "nbformat": 4,
 "nbformat_minor": 2
}
